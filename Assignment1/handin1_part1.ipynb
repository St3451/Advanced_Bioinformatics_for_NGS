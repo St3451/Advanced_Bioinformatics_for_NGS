{
  "nbformat": 4,
  "nbformat_minor": 0,
  "metadata": {
    "colab": {
      "name": "Advanced bioinformatics handin 1.ipynb",
      "provenance": [],
      "collapsed_sections": []
    },
    "kernelspec": {
      "name": "python3",
      "display_name": "Python 3"
    }
  },
  "cells": [
    {
      "cell_type": "markdown",
      "metadata": {
        "id": "nHrZYJpzqj3r"
      },
      "source": [
        "# Advanced bioinformatics for NGS - Handin 1"
      ]
    },
    {
      "cell_type": "markdown",
      "metadata": {
        "id": "i-r7aM94qBuo"
      },
      "source": [
        "## Exercise 1"
      ]
    },
    {
      "cell_type": "code",
      "metadata": {
        "id": "M-IF8ZnFqDcf"
      },
      "source": [
        "def parse(string):\n",
        "  lstrings = string.strip().split()\n",
        "  for i, s in enumerate(lstrings):\n",
        "    if s.startswith(\">\"):\n",
        "      # Remove the header of the first sequence\n",
        "      if i == 0:\n",
        "        lstrings[i] = \"\"\n",
        "      # Add a terminating character at the end of the sequences\n",
        "      else:\n",
        "        lstrings[i] = \"$\"\n",
        "  return \"\".join(lstrings)+\"$\"\n",
        "\n",
        "def suffix_array(string):\n",
        "  \"\"\"\n",
        "  Take a string as input and return the saffix array.\n",
        "  \"\"\"\n",
        "  l = []\n",
        "  sa = []\n",
        "  # Store the suffices to a list\n",
        "  for i in range(len(string)):\n",
        "    l.append(string[i:len(string)]) \n",
        "  l = sorted(l)\n",
        "  # Loop over the sorted suffices and store the saffix array index \n",
        "  for suffix in l:\n",
        "    sa.append(len(string) - len(suffix))\n",
        "  return sa\n"
      ],
      "execution_count": 1,
      "outputs": []
    },
    {
      "cell_type": "markdown",
      "metadata": {
        "id": "jYuPSVH-qPR7"
      },
      "source": [
        "## Exercise 2"
      ]
    },
    {
      "cell_type": "code",
      "metadata": {
        "id": "d5sYBbIy-9V5"
      },
      "source": [
        "def binary_search(query, genome, sa):\n",
        "  i = 0\n",
        "  j = len(sa)\n",
        "  n = 0\n",
        "  hits, n = recursion(i, j, n, query, genome, sa)\n",
        "  print(f\"\\nNumber of iterations = {n}\")\n",
        "  return hits\n",
        "\n",
        "def recursion(i, j, n, query, genome, sa):\n",
        "  m = (i+j)//2\n",
        "  hits = []\n",
        "  n = n+1\n",
        "  match = False\n",
        "  # If hits, append to the list and look to neightbours sa\n",
        "  if query == genome[sa[m]:sa[m]+len(query)]:\n",
        "    hits.append(sa[m])\n",
        "    match, k = 1, 1\n",
        "    while match:\n",
        "      if genome[sa[m-k]:].startswith(query):\n",
        "        hits.append(sa[m-k])\n",
        "      elif genome[sa[m+k]:].startswith(query):\n",
        "        hits.append(sa[m+k])\n",
        "      else:\n",
        "        match = 0\n",
        "      k+=1\n",
        "    return hits, n\n",
        "  # If not, look in the left or right half according to order\n",
        "  else:\n",
        "    if query < genome[sa[m]:]:\n",
        "      j=m\n",
        "    else:\n",
        "      i=m+1\n",
        "    return recursion(i, j, n, query, genome, sa)"
      ],
      "execution_count": 34,
      "outputs": []
    },
    {
      "cell_type": "markdown",
      "metadata": {
        "id": "Tlm-sNKvqUf9"
      },
      "source": [
        "## Exercise 3 and 4"
      ]
    },
    {
      "cell_type": "code",
      "metadata": {
        "id": "I_3OcdvOgi1f",
        "outputId": "af91973e-a866-41e0-d6eb-ca846ff9ae97",
        "colab": {
          "base_uri": "https://localhost:8080/",
          "height": 415
        }
      },
      "source": [
        "fasta = \"\"\">chr1\n",
        "GGAAGTCGTGTTCCGTTAGCGCTGAAGATCTTTTTGATGGCTCTGGCTATTATCGACGATCTTGGGGCCA\n",
        "TCATTATCATCGCATTGTTCTACACTAATGACTTATCGATGGCCTCTCTTGGCGTCGCGGCTGTAGCAAT\n",
        "TGCGGTACTCGCGGTATTGAATCTGTGTGGTGCACGCCGCACGGGCGTCTATATTCTTGTTGGCGTGGTG\n",
        "TTGTGGACTGCGGTGTTGAAATCGGGGGTTCACGCAACTCTG\n",
        ">chr2\n",
        "GTTTCGCCGCAGGATGTGATGAACAAACTGGGCGCGGATATTCTGCGTCTGTGGGTGGCATCAACCGACT\n",
        "ACACCGGTGAAATGGCCGTTTCTGACGAGATCCTGAAACGTGCTGCCGATAGCTATCGTCGTATCCGTAA\n",
        "CACCGCGCGCTTCCTGCTGGCAAACCTG\n",
        ">chr3\n",
        "GTACCGCTGGCAAAAGTGGCGGCGCGCGTGATGGCTGGCAAATCGCTGGCTGAGCTCATTATCATCGCAT\n",
        "TGTTCTACACTAATGACTTATCGATGGCCTCTCTTGGCGTCGCGGCTGTAGCAATAAGTTATCCCGCCGT\n",
        "ACTACTCGGTGAAAGAAGTGGTGCTGCCGTTCAATAAATTCCCGGGCGTTGACCCGCTGTTAGGGCCAG\n",
        "AAATGCGCTCTACCGGGGAAGTCATGGGCGTGGGCCGCACCTTCGCTGAAGCGTTT\"\"\"\n",
        "genome = parse(fasta)\n",
        "\n",
        "# The code in this box should be pasted into your program and run\n",
        "# It is assumed that your genome sequence is called \"genome\" and\n",
        "# that your two functions suffix_array and binary_search adhere to\n",
        "# the descriptions.\n",
        "\n",
        "def print_suffixInterval(genome,sa,i,j,length=10):\n",
        "  ''' Print small part of a suffix array '''\n",
        "  while i < j and i<len(genome):\n",
        "    print('{:5}{:5} '.format(i,sa[i]),genome[sa[i]:sa[i]+length])\n",
        "    i += 1\n",
        "\n",
        "# Here your suffix_array function is called\n",
        "sa = suffix_array(genome)\n",
        "# Here a small arbitrary part of it is printed\n",
        "print_suffixInterval(genome,sa,10,20)\n",
        "\n",
        "# Here your binary_search program is tested with the query sequence 'AACC'\n",
        "hits = binary_search('AAA',genome,sa)\n",
        "# The result is printed\n",
        "print(\"\\nHits found:\\n  Pos  Seq\")\n",
        "for i in hits:\n",
        "  print('{:5} '.format(i),genome[i:i+4])"
      ],
      "execution_count": 35,
      "outputs": [
        {
          "output_type": "stream",
          "text": [
            "   10  228  AAATCGGGGG\n",
            "   11  631  AAATGCGCTC\n",
            "   12  332  AAATGGCCGT\n",
            "   13  597  AAATTCCCGG\n",
            "   14  274  AACAAACTGG\n",
            "   15  391  AACACCGCGC\n",
            "   16  315  AACCGACTAC\n",
            "   17  415  AACCTG$GTA\n",
            "   18  359  AACGTGCTGC\n",
            "   19  245  AACTCTG$GT\n",
            "\n",
            "Number of iterations = 6\n",
            "\n",
            "Hits found:\n",
            "  Pos  Seq\n",
            "  228  AAAT\n",
            "  461  AAAT\n",
            "  434  AAAG\n",
            "  573  AAAG\n",
            "  277  AAAC\n",
            "  358  AAAC\n",
            "  414  AAAC\n",
            "  433  AAAA\n"
          ],
          "name": "stdout"
        }
      ]
    },
    {
      "cell_type": "markdown",
      "metadata": {
        "id": "sOzJ_U0mnqRo"
      },
      "source": [
        "## Exercise 5\n",
        "\n",
        "Approximately, a genome with length L should be halved $\\log_{2}L$ before finding a hit.  \n",
        "For the two strands of the human genome of length $6∗10^{9}$ this number is $\\log_{2}(2*6*10^{9})=33.48$.   \n",
        "Since the concatenated genome has length 688, the binary search should halve the genome $\\log_{2}688 = 9.42$ times, which should approximately corresponds to the number of time the binary search is looping. My binary search implementation performs 7 iterations before finding an hit.\n",
        "\n",
        "\n",
        "\n",
        "\n"
      ]
    }
  ]
}